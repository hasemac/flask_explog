{
 "cells": [
  {
   "cell_type": "code",
   "execution_count": 1,
   "metadata": {},
   "outputs": [],
   "source": [
    "import mysql.connector\n",
    "import datetime"
   ]
  },
  {
   "cell_type": "code",
   "execution_count": 2,
   "metadata": {},
   "outputs": [],
   "source": [
    "    con = mysql.connector.connect(\n",
    "        user='mysql',\n",
    "        password='mysql',\n",
    "        host='127.0.0.1',\n",
    "        database='explog'\n",
    "    )\n",
    "    cur = con.cursor()"
   ]
  },
  {
   "cell_type": "code",
   "execution_count": 3,
   "metadata": {},
   "outputs": [],
   "source": [
    "    con2 = mysql.connector.connect(\n",
    "        user='aiadmin',\n",
    "        password='zeDm3HLcBx',\n",
    "        host='192.168.10.150',\n",
    "        database='explog'\n",
    "    )\n",
    "    cur2 = con2.cursor()"
   ]
  },
  {
   "cell_type": "code",
   "execution_count": 4,
   "metadata": {},
   "outputs": [
    {
     "name": "stdout",
     "output_type": "stream",
     "text": [
      "error: 011625\n",
      "error: 011626\n",
      "error: 011627\n",
      "error: 011628\n",
      "error: 011629\n",
      "error: 011630\n",
      "error: 011631\n",
      "error: 011632\n",
      "error: 011633\n",
      "error: 011634\n",
      "error: 011635\n",
      "error: 011636\n",
      "error: 011637\n",
      "error: 011638\n",
      "error: 014463\n",
      "error: 016736\n",
      "error: 017330\n",
      "error: 019866\n",
      "error: 019880\n",
      "error: 019881\n",
      "error: 020414\n",
      "error: 020415\n",
      "error: 021491\n",
      "error: 021492\n",
      "error: 021490\n",
      "error: 024900\n",
      "error: 025877\n",
      "error: 025979\n",
      "error: 025980\n",
      "error: 025981\n",
      "error: 025982\n",
      "error: 025983\n",
      "error: 025984\n",
      "error: 028847\n",
      "error: 029123\n",
      "error: 031235\n",
      "error: 033213\n",
      "error: 033214\n",
      "error: 033215\n",
      "error: 033216\n",
      "error: 033654\n",
      "error: 043463\n",
      "error: 043464\n",
      "error: 048682\n"
     ]
    }
   ],
   "source": [
    "shots, shote = 10000, 50000\n",
    "sql = 'INSERT INTO comment (shot, datetime, comment) VALUES (%s, %s, %s)'\n",
    "cur.execute(\"SELECT shot, date, time, comment FROM logcomment where shot>=%s AND shot<%s\",[shots, shote])\n",
    "for e in cur:\n",
    "\n",
    "    str_date = e[1]+' '+e[2]\n",
    "\n",
    "    try:\n",
    "        mydate = datetime.datetime.strptime(str_date, '%y/%m/%d %H:%M:%S')\n",
    "        c = ''\n",
    "        if e[3] is not None:\n",
    "            #print(e[3])\n",
    "            c = e[3].decode('shift_jis')\n",
    "        cur2.execute(sql, [e[0], str_date, c])\n",
    "    except:\n",
    "        print(\"error:\", e[0])\n",
    "con2.commit()\n",
    "        "
   ]
  },
  {
   "cell_type": "code",
   "execution_count": null,
   "metadata": {},
   "outputs": [],
   "source": []
  }
 ],
 "metadata": {
  "interpreter": {
   "hash": "62fa676f4ffcafa30c3360688928d13eabe362a9d477b9c4bd146c48a4419189"
  },
  "kernelspec": {
   "display_name": "Python 3.9.11 ('venv': venv)",
   "language": "python",
   "name": "python3"
  },
  "language_info": {
   "codemirror_mode": {
    "name": "ipython",
    "version": 3
   },
   "file_extension": ".py",
   "mimetype": "text/x-python",
   "name": "python",
   "nbconvert_exporter": "python",
   "pygments_lexer": "ipython3",
   "version": "3.9.11"
  },
  "orig_nbformat": 4
 },
 "nbformat": 4,
 "nbformat_minor": 2
}
