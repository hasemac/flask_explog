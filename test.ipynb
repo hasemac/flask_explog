{
 "cells": [
  {
   "cell_type": "code",
   "execution_count": 1,
   "metadata": {},
   "outputs": [],
   "source": [
    "import mysql.connector"
   ]
  },
  {
   "cell_type": "code",
   "execution_count": 2,
   "metadata": {},
   "outputs": [],
   "source": [
    "    con = mysql.connector.connect(\n",
    "        user='mysql',\n",
    "        password='mysql',\n",
    "        host='127.0.0.1',\n",
    "        database='explog'\n",
    "    )\n",
    "    cur = con.cursor()"
   ]
  },
  {
   "cell_type": "code",
   "execution_count": null,
   "metadata": {},
   "outputs": [],
   "source": [
    "    con2 = mysql.connector.connect(\n",
    "        user='aiadmin',\n",
    "        password='mysql',\n",
    "        host='127.0.0.1',\n",
    "        database='explog'\n",
    "    )\n",
    "    cur = con.cursor()"
   ]
  },
  {
   "cell_type": "code",
   "execution_count": 4,
   "metadata": {},
   "outputs": [
    {
     "name": "stdout",
     "output_type": "stream",
     "text": [
      "('000001', '08/06/26', '16:37:43', b'')\n"
     ]
    }
   ],
   "source": [
    "cur.execute(\"SELECT shot, date, time, comment FROM logcomment where shot=1\")\n",
    "for e in cur:\n",
    "    print(e)"
   ]
  },
  {
   "cell_type": "code",
   "execution_count": null,
   "metadata": {},
   "outputs": [],
   "source": []
  }
 ],
 "metadata": {
  "interpreter": {
   "hash": "62fa676f4ffcafa30c3360688928d13eabe362a9d477b9c4bd146c48a4419189"
  },
  "kernelspec": {
   "display_name": "Python 3.9.11 ('venv': venv)",
   "language": "python",
   "name": "python3"
  },
  "language_info": {
   "codemirror_mode": {
    "name": "ipython",
    "version": 3
   },
   "file_extension": ".py",
   "mimetype": "text/x-python",
   "name": "python",
   "nbconvert_exporter": "python",
   "pygments_lexer": "ipython3",
   "version": "3.9.11"
  },
  "orig_nbformat": 4
 },
 "nbformat": 4,
 "nbformat_minor": 2
}
